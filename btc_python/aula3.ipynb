{
 "cells": [
  {
   "cell_type": "markdown",
   "metadata": {},
   "source": [
    "Desafio - Refatorar o desafio da aula anterior usando while!"
   ]
  },
  {
   "cell_type": "code",
   "execution_count": null,
   "metadata": {},
   "outputs": [],
   "source": [
    "nome_valido = False\n",
    "salario_valido = False\n",
    "bonus_valido = False\n",
    "\n",
    "#Solicita ao usuário o seu nome\n",
    "while nome_valido is not True:\n",
    "    try:\n",
    "        nome = input(\"Digite seu nome: \")\n",
    "\n",
    "        #Verificar se o nome está vazio\n",
    "        if len(nome) == 0:\n",
    "            raise ValueError(\"O nome não pode estar vazio.\")\n",
    "        \n",
    "        #Verificar se há números no nome\n",
    "        elif nome.isdigit():\n",
    "            raise ValueError(\"O nome não pode conter números.\")\n",
    "        else:\n",
    "            nome_valido = True\n",
    "            print(\"Nome válido:\", nome)\n",
    "    except ValueError as e:\n",
    "        print(e)\n",
    "\n",
    "\n",
    "while salario_valido is not True:\n",
    "# Solicita ao usuário que digite o valor do seu salário e converte para float\n",
    "    try:\n",
    "        salario = float(input(\"Digite o valor do seu salário: \"))\n",
    "        if salario < 0:\n",
    "            print(\"Por favor, digite um valor positivo para o salário.\")\n",
    "        else:\n",
    "            salario_valido = True\n",
    "    except ValueError:\n",
    "        print(\"Entrada inválida para o salário. Por favor, digite um número.\")\n",
    "\n",
    "\n",
    "while bonus_valido is not True:\n",
    "# Solicita ao usuário que digite o valor do valor do bônus recebido e converte para float\n",
    "    try:\n",
    "        bonus_recebido = float(input(\"Digite o valor do bônus recebido: \"))\n",
    "        if bonus_recebido < 0:\n",
    "            print(\"Por favor, digite um valor positivo para o bônus.\")\n",
    "        else:\n",
    "            bonus_valido = True\n",
    "    except ValueError:\n",
    "        print(\"Entrada inválida para o bônus. Por favor, digite um número.\")\n",
    "\n",
    "# Assumindo uma lógica de cálculo para o bônus final e KPI\n",
    "bonus_final = bonus_recebido * 1.2  \n",
    "kpi = (salario + bonus_final) / 1000\n",
    "\n",
    "# Imprime as informações para o usuário\n",
    "print(f\"Seu KPI é: {kpi:.2f}\")\n",
    "print(f\"{nome}, seu salário é R${salario:.2f} e seu bônus final é R${bonus_final:.2f}.\")\n"
   ]
  }
 ],
 "metadata": {
  "kernelspec": {
   "display_name": "Python 3",
   "language": "python",
   "name": "python3"
  },
  "language_info": {
   "name": "python",
   "version": "3.12.4"
  }
 },
 "nbformat": 4,
 "nbformat_minor": 2
}
